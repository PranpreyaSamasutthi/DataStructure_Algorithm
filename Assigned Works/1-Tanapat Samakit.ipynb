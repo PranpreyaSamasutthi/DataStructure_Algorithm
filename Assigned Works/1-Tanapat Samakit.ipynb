{
 "cells": [
  {
   "cell_type": "code",
   "execution_count": 31,
   "source": [
    "import random as rd\r\n",
    "import math\r\n",
    "\r\n",
    "def insertionSort(Arr):\r\n",
    "    # Check Length of Input\r\n",
    "    if int(len(Arr)) > 1 :\r\n",
    "        i = 1\r\n",
    "\r\n",
    "        #Loop for each index of Array\r\n",
    "        while i < len(Arr):\r\n",
    "            Arr_Val = Arr[i]    \r\n",
    "            j = i-1\r\n",
    "\r\n",
    "            #check all the previous values compared to A[i]\r\n",
    "            while j >= 0 and Arr_Val < Arr[j] :\r\n",
    "                Arr[j+1] = Arr[j]\r\n",
    "                j = j-1\r\n",
    "            \r\n",
    "            Arr[j+1] = Arr_Val\r\n",
    "            i = i+1          \r\n",
    "\r\n",
    "def mergeSort(Arr):\r\n",
    "    if len(Arr) > 1:\r\n",
    " \r\n",
    "        #Get the middle for spliting\r\n",
    "        mid = math.ceil(len(Arr)/2)\r\n",
    "\r\n",
    "        #Split into 2 Arrays\r\n",
    "        L = Arr[:mid]\r\n",
    "        R = Arr[mid:]\r\n",
    "\r\n",
    "        #Recursive Merging\r\n",
    "        mergeSort(L)\r\n",
    "        mergeSort(R)\r\n",
    "\r\n",
    "        #Initial index of L,R, and Arr\r\n",
    "        i = j = k = 0\r\n",
    "\r\n",
    "        #Compare within Array\r\n",
    "        while (i < len(L) and j < len(R)):\r\n",
    "            ### Check Comparing\r\n",
    "            #print(f'{L[i]} with {R[j]}')\r\n",
    "            if L[i] < R[j]:\r\n",
    "                Arr[k] = L[i]\r\n",
    "                i=i+1\r\n",
    "            else:\r\n",
    "                Arr[k] = R[j]\r\n",
    "                j=j+1\r\n",
    "\r\n",
    "            k=k+1\r\n",
    "\r\n",
    "        #Insert remaining elements\r\n",
    "        while i < len(L):\r\n",
    "            Arr[k] = L[i]\r\n",
    "            i=i+1\r\n",
    "            k=k+1\r\n",
    "\r\n",
    "        while j < len(R):\r\n",
    "            Arr[k] = R[j]\r\n",
    "            j=j+1\r\n",
    "            k=k+1\r\n",
    "\r\n",
    "        ### Check elements of Arrays\r\n",
    "        #print(L)\r\n",
    "        #print(R)\r\n",
    "        #print(Arr)\r\n",
    "        #print('*'*20)\r\n",
    " \r\n",
    "\r\n",
    "\r\n",
    "Test_Arr = rd.sample(range(1,100),5)\r\n",
    "print(f'Input Array: {Test_Arr}')\r\n",
    "insertionSort(Test_Arr)\r\n",
    "print(f'Insertion Sorted Array: {Test_Arr}')\r\n",
    "print('='*30)\r\n",
    "\r\n",
    "Test_Arr2 = rd.sample(range(1,100),5)\r\n",
    "print(f'Input Array: {Test_Arr2}')\r\n",
    "mergeSort(Test_Arr2)\r\n",
    "print(f'Merge Sorted Array: {Test_Arr2}')\r\n"
   ],
   "outputs": [
    {
     "output_type": "stream",
     "name": "stdout",
     "text": [
      "Input Array: [4, 61, 17, 1, 65]\n",
      "Insertion Sorted Array: [1, 4, 17, 61, 65]\n",
      "==============================\n",
      "Input Array: [56, 90, 38, 45, 43]\n",
      "Merge Sorted Array: [38, 43, 45, 56, 90]\n"
     ]
    }
   ],
   "metadata": {}
  }
 ],
 "metadata": {
  "interpreter": {
   "hash": "38e5278b58788142e6dfc88ed7762691e2e803d8a182a6494c8bb10c65a62fec"
  },
  "kernelspec": {
   "name": "python3",
   "display_name": "Python 3.9.6 64-bit"
  },
  "language_info": {
   "codemirror_mode": {
    "name": "ipython",
    "version": 3
   },
   "file_extension": ".py",
   "mimetype": "text/x-python",
   "name": "python",
   "nbconvert_exporter": "python",
   "pygments_lexer": "ipython3",
   "version": "3.9.6"
  }
 },
 "nbformat": 4,
 "nbformat_minor": 2
}