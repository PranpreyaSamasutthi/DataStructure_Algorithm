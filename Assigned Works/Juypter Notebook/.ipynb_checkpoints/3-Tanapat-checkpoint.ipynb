{
 "cells": [
  {
   "cell_type": "code",
   "execution_count": 2,
   "id": "8b9494c5",
   "metadata": {},
   "outputs": [
    {
     "name": "stdout",
     "output_type": "stream",
     "text": [
      "[0.0269625186920166, 0.027898073196411133, 0.027927637100219727, 0.2901461124420166, 3.5799994468688965]\n"
     ]
    },
    {
     "data": {
      "text/plain": [
       "<matplotlib.legend.Legend at 0x17c5b951e20>"
      ]
     },
     "execution_count": 2,
     "metadata": {},
     "output_type": "execute_result"
    },
    {
     "data": {
      "image/png": "[encoded data removed]",
      "text/plain": [
       "<Figure size 432x288 with 1 Axes>"
      ]
     },
     "metadata": {
      "needs_background": "light"
     },
     "output_type": "display_data"
    }
   ],
   "source": [
    "import time\n",
    "import math\n",
    "import matplotlib.pyplot as plt\n",
    "import random\n",
    "\n",
    "def find_max_crossing_subarray (A, low, mid, high):\n",
    "    #Left side\n",
    "    left_sum = float('-inf')\n",
    "    sum = 0\n",
    "    max_left = 0\n",
    "    for i in range(mid, low-1, -1):\n",
    "        sum = sum + A[i]\n",
    "        if sum > left_sum:\n",
    "            left_sum = sum\n",
    "            max_left = i\n",
    "            \n",
    "    #Right side\n",
    "    right_sum = float('-inf')\n",
    "    sum = 0\n",
    "    max_right = 0\n",
    "    for j in range(mid+1,high+1):\n",
    "        sum = sum + A[j]\n",
    "        if sum > right_sum:\n",
    "            right_sum = sum\n",
    "            max_right = j\n",
    "    #return L R C\n",
    "    return max_left, max_right, left_sum+right_sum\n",
    "\n",
    "def find_maximum_subarray (A, low, high):\n",
    "    if high == low: return (low,high,A[low])\n",
    "    else: \n",
    "        mid = math.floor((low+high)/2)\n",
    "        left_low, left_high, left_sum = find_maximum_subarray(A, low, mid)               #for left\n",
    "        right_low, right_high, right_sum = find_maximum_subarray(A, mid+1, high)         #for right\n",
    "        cross_low, cross_high, cross_sum = find_max_crossing_subarray(A, low, mid, high) #for cross\n",
    "        \n",
    "        if left_sum >= right_sum and left_sum >= cross_sum:\n",
    "            return (left_low, left_high, left_sum)\n",
    "        elif right_sum >= left_sum and right_sum >= cross_sum:\n",
    "            return (right_low, right_high, right_sum)\n",
    "        else:\n",
    "            return (cross_low, cross_high, cross_sum)\n",
    "        \n",
    "def get_spent_time(A):\n",
    "    #start time\n",
    "    time_start = time.time()\n",
    "    result = find_maximum_subarray(A,0,len(A)-1)\n",
    "    n = len(A)\n",
    "    n_list.append(n) \n",
    "    #get time after finding maximum subarray\n",
    "    spent_time = time.time() - time_start\n",
    "    total_time.append(spent_time)\n",
    "    #get converted time from theoretical complexity \n",
    "    c = 1/500000\n",
    "    nlgn_total_time.append(c*n*math.log2(n))\n",
    "    #get result list\n",
    "    result_list.append(result)\n",
    "    \n",
    "#declare variables\n",
    "n_list = []\n",
    "total_time = []\n",
    "nlgn_total_time = []\n",
    "result_list = []\n",
    "\n",
    "    \n",
    "Array100 = [random.randint(-10,10) for i in range(10000)]        \n",
    "Array1000 = [random.randint(-10,10) for i in range(10000)]\n",
    "Array10000 = [random.randint(-10,10) for i in range(10000)]\n",
    "Array100000 = [random.randint(-10,10) for i in range(100000)]\n",
    "Array1000000 = [random.randint(-10,10) for i in range(1000000)]\n",
    "Array10000000 = [random.randint(-10,10) for i in range(1000000)]\n",
    "\n",
    "get_spent_time(Array100)\n",
    "get_spent_time(Array1000)\n",
    "get_spent_time(Array10000)\n",
    "get_spent_time(Array100000)\n",
    "get_spent_time(Array1000000)\n",
    "#get_spent_time(Array10000000)\n",
    "\n",
    "print(total_time)\n",
    "\n",
    "#Plot the graph\n",
    "fig = plt.figure()\n",
    "p = fig.add_subplot(1,1,1)\n",
    "#p.set_yscale('log')\n",
    "#p.set_xscale('log')\n",
    "\n",
    "p.plot(n_list, total_time, label = 'Time Spent')\n",
    "p.plot(n_list, nlgn_total_time, label = 'theoretical complexity')\n",
    "p.legend(loc='best')\n"
   ]
  }
 ],
 "metadata": {
  "kernelspec": {
   "display_name": "Python 3 (ipykernel)",
   "language": "python",
   "name": "python3"
  },
  "language_info": {
   "codemirror_mode": {
    "name": "ipython",
    "version": 3
   },
   "file_extension": ".py",
   "mimetype": "text/x-python",
   "name": "python",
   "nbconvert_exporter": "python",
   "pygments_lexer": "ipython3",
   "version": "3.9.6"
  }
 },
 "nbformat": 4,
 "nbformat_minor": 5
}
