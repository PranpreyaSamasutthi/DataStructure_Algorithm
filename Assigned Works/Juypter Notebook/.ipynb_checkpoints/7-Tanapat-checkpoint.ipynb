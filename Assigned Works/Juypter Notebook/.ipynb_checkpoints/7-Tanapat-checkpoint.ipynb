{
 "cells": [
  {
   "cell_type": "code",
   "execution_count": 9,
   "id": "7a91d93e",
   "metadata": {},
   "outputs": [
    {
     "name": "stdout",
     "output_type": "stream",
     "text": [
      "{[]{(Test)}} - ok\n",
      "[{}{})(Test] - not ok\n",
      "(Test) Hello - ok\n",
      "(Test) Hello(()) - ok\n",
      "123456((Test) Hello(()) - not ok\n"
     ]
    }
   ],
   "source": [
    "op = [\"[\",\"{\",\"(\"]\n",
    "cp = [\"]\",\"}\",\")\"]\n",
    "\n",
    "def check_Paranthesis(str):\n",
    "    Stack = []\n",
    "    for i in str:\n",
    "        if i in op:\n",
    "            Stack.append(i)\n",
    "        elif i in cp:\n",
    "            cp_pos = cp.index(i)\n",
    "            if((len(Stack)>0)) and (op[cp_pos] == Stack[len(Stack)-1]):\n",
    "                Stack.pop()\n",
    "            else: return \"not ok\"\n",
    "                  \n",
    "    if len(Stack) == 0: return \"ok\"\n",
    "    else: return \"not ok\"\n",
    "\n",
    "string = \"{[]{(Test)}}\"\n",
    "print(string,\"-\", check_Paranthesis(string))\n",
    "string = \"[{}{})(Test]\"\n",
    "print(string,\"-\", check_Paranthesis(string))\n",
    "string = \"(Test) Hello\"\n",
    "print(string,\"-\", check_Paranthesis(string))\n",
    "string = \"(Test) Hello(())\"\n",
    "print(string,\"-\", check_Paranthesis(string))\n",
    "string = \"123456((Test) Hello(())\"\n",
    "print(string,\"-\", check_Paranthesis(string))"
   ]
  },
  {
   "cell_type": "code",
   "execution_count": null,
   "id": "23a5fc13",
   "metadata": {},
   "outputs": [],
   "source": []
  }
 ],
 "metadata": {
  "kernelspec": {
   "display_name": "Python 3 (ipykernel)",
   "language": "python",
   "name": "python3"
  },
  "language_info": {
   "codemirror_mode": {
    "name": "ipython",
    "version": 3
   },
   "file_extension": ".py",
   "mimetype": "text/x-python",
   "name": "python",
   "nbconvert_exporter": "python",
   "pygments_lexer": "ipython3",
   "version": "3.9.6"
  }
 },
 "nbformat": 4,
 "nbformat_minor": 5
}
